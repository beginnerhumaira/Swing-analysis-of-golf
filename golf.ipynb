{
 "cells": [
  {
   "cell_type": "code",
   "execution_count": 1,
   "metadata": {},
   "outputs": [
    {
     "name": "stdout",
     "output_type": "stream",
     "text": [
      "Requirement already satisfied: opencv-python in c:\\users\\sajja\\appdata\\local\\programs\\python\\python310\\lib\\site-packages (4.7.0.72)\n",
      "Requirement already satisfied: numpy>=1.21.2 in c:\\users\\sajja\\appdata\\local\\programs\\python\\python310\\lib\\site-packages (from opencv-python) (1.24.2)\n",
      "Note: you may need to restart the kernel to use updated packages.\n"
     ]
    },
    {
     "name": "stderr",
     "output_type": "stream",
     "text": [
      "\n",
      "[notice] A new release of pip is available: 23.0.1 -> 24.2\n",
      "[notice] To update, run: python.exe -m pip install --upgrade pip\n"
     ]
    }
   ],
   "source": [
    "pip install opencv-python"
   ]
  },
  {
   "cell_type": "code",
   "execution_count": 2,
   "metadata": {},
   "outputs": [
    {
     "name": "stdout",
     "output_type": "stream",
     "text": [
      "Requirement already satisfied: mediapipe in c:\\users\\sajja\\appdata\\local\\programs\\python\\python310\\lib\\site-packages (0.9.1.0)\n",
      "Requirement already satisfied: opencv-contrib-python in c:\\users\\sajja\\appdata\\local\\programs\\python\\python310\\lib\\site-packages (from mediapipe) (4.7.0.72)\n",
      "Requirement already satisfied: protobuf<4,>=3.11 in c:\\users\\sajja\\appdata\\local\\programs\\python\\python310\\lib\\site-packages (from mediapipe) (3.20.3)\n",
      "Requirement already satisfied: matplotlib in c:\\users\\sajja\\appdata\\local\\programs\\python\\python310\\lib\\site-packages (from mediapipe) (3.7.0)\n",
      "Requirement already satisfied: absl-py in c:\\users\\sajja\\appdata\\local\\programs\\python\\python310\\lib\\site-packages (from mediapipe) (1.4.0)\n",
      "Requirement already satisfied: numpy in c:\\users\\sajja\\appdata\\local\\programs\\python\\python310\\lib\\site-packages (from mediapipe) (1.24.2)\n",
      "Requirement already satisfied: flatbuffers>=2.0 in c:\\users\\sajja\\appdata\\local\\programs\\python\\python310\\lib\\site-packages (from mediapipe) (24.3.25)\n",
      "Requirement already satisfied: attrs>=19.1.0 in c:\\users\\sajja\\appdata\\local\\programs\\python\\python310\\lib\\site-packages (from mediapipe) (22.2.0)\n",
      "Requirement already satisfied: pillow>=6.2.0 in c:\\users\\sajja\\appdata\\local\\programs\\python\\python310\\lib\\site-packages (from matplotlib->mediapipe) (9.4.0)\n",
      "Requirement already satisfied: kiwisolver>=1.0.1 in c:\\users\\sajja\\appdata\\local\\programs\\python\\python310\\lib\\site-packages (from matplotlib->mediapipe) (1.4.4)\n",
      "Requirement already satisfied: contourpy>=1.0.1 in c:\\users\\sajja\\appdata\\local\\programs\\python\\python310\\lib\\site-packages (from matplotlib->mediapipe) (1.0.7)\n",
      "Requirement already satisfied: python-dateutil>=2.7 in c:\\users\\sajja\\appdata\\roaming\\python\\python310\\site-packages (from matplotlib->mediapipe) (2.8.2)\n",
      "Requirement already satisfied: pyparsing>=2.3.1 in c:\\users\\sajja\\appdata\\local\\programs\\python\\python310\\lib\\site-packages (from matplotlib->mediapipe) (3.0.9)\n",
      "Requirement already satisfied: fonttools>=4.22.0 in c:\\users\\sajja\\appdata\\local\\programs\\python\\python310\\lib\\site-packages (from matplotlib->mediapipe) (4.38.0)\n",
      "Requirement already satisfied: cycler>=0.10 in c:\\users\\sajja\\appdata\\local\\programs\\python\\python310\\lib\\site-packages (from matplotlib->mediapipe) (0.11.0)\n",
      "Requirement already satisfied: packaging>=20.0 in c:\\users\\sajja\\appdata\\roaming\\python\\python310\\site-packages (from matplotlib->mediapipe) (23.0)\n",
      "Requirement already satisfied: six>=1.5 in c:\\users\\sajja\\appdata\\roaming\\python\\python310\\site-packages (from python-dateutil>=2.7->matplotlib->mediapipe) (1.16.0)\n",
      "Note: you may need to restart the kernel to use updated packages.\n"
     ]
    },
    {
     "name": "stderr",
     "output_type": "stream",
     "text": [
      "\n",
      "[notice] A new release of pip is available: 23.0.1 -> 24.2\n",
      "[notice] To update, run: python.exe -m pip install --upgrade pip\n"
     ]
    }
   ],
   "source": [
    "pip install mediapipe"
   ]
  },
  {
   "cell_type": "code",
   "execution_count": 3,
   "metadata": {},
   "outputs": [
    {
     "name": "stdout",
     "output_type": "stream",
     "text": [
      "Requirement already satisfied: numpy in c:\\users\\sajja\\appdata\\local\\programs\\python\\python310\\lib\\site-packages (1.24.2)\n",
      "Note: you may need to restart the kernel to use updated packages.\n"
     ]
    },
    {
     "name": "stderr",
     "output_type": "stream",
     "text": [
      "\n",
      "[notice] A new release of pip is available: 23.0.1 -> 24.2\n",
      "[notice] To update, run: python.exe -m pip install --upgrade pip\n"
     ]
    }
   ],
   "source": [
    "pip install numpy"
   ]
  },
  {
   "cell_type": "code",
   "execution_count": 1,
   "metadata": {},
   "outputs": [
    {
     "name": "stdout",
     "output_type": "stream",
     "text": [
      "Elbow Angle: 64.47780608860397 degrees\n",
      "Hand Position Angle: 64.47780608860397 degrees\n",
      "Shaft Angle: 36.69832833011635 degrees\n",
      "Knee Angle: 174.02155714050886 degrees\n",
      "Estimated Overall Swing Accuracy: 68.25%\n",
      "Image saved as golf_swing_analysis_extended.jpg\n"
     ]
    }
   ],
   "source": [
    "import cv2\n",
    "import mediapipe as mp\n",
    "import numpy as np\n",
    "\n",
    "# Load the image\n",
    "image_path = \"golf.jpg\"  # Replace with your image path\n",
    "image = cv2.imread('D:\\Humaira\\Logiqon\\pocket\\golf2.jpg')\n",
    "\n",
    "# Initialize MediaPipe Pose\n",
    "mp_pose = mp.solutions.pose\n",
    "mp_drawing = mp.solutions.drawing_utils\n",
    "pose = mp_pose.Pose(static_image_mode=True, min_detection_confidence=0.5)\n",
    "\n",
    "# Convert the image to RGB as MediaPipe uses RGB format\n",
    "image_rgb = cv2.cvtColor(image, cv2.COLOR_BGR2RGB)\n",
    "\n",
    "# Perform pose detection\n",
    "results = pose.process(image_rgb)\n",
    "\n",
    "# Draw the pose landmarks on the original image\n",
    "mp_drawing.draw_landmarks(image, results.pose_landmarks, mp_pose.POSE_CONNECTIONS)\n",
    "\n",
    "# Function to calculate angles\n",
    "def calculate_angle(a, b, c):\n",
    "    a = np.array(a)\n",
    "    b = np.array(b)\n",
    "    c = np.array(c)\n",
    "    radians = np.arctan2(c[1] - b[1], c[0] - b[0]) - np.arctan2(a[1] - b[1], a[0] - b[0])\n",
    "    angle = np.abs(radians * 180.0 / np.pi)\n",
    "    if angle > 180.0:\n",
    "        angle = 360 - angle\n",
    "    return angle\n",
    "\n",
    "# Check if pose landmarks were detected\n",
    "if results.pose_landmarks:\n",
    "    landmarks = results.pose_landmarks.landmark\n",
    "    \n",
    "    # Calculate angles for right side of the body\n",
    "    \n",
    "    # Shoulder, Elbow, Wrist (Elbow Angle)\n",
    "    shoulder = [landmarks[mp_pose.PoseLandmark.RIGHT_SHOULDER.value].x,\n",
    "                landmarks[mp_pose.PoseLandmark.RIGHT_SHOULDER.value].y]\n",
    "    elbow = [landmarks[mp_pose.PoseLandmark.RIGHT_ELBOW.value].x,\n",
    "             landmarks[mp_pose.PoseLandmark.RIGHT_ELBOW.value].y]\n",
    "    wrist = [landmarks[mp_pose.PoseLandmark.RIGHT_WRIST.value].x,\n",
    "             landmarks[mp_pose.PoseLandmark.RIGHT_WRIST.value].y]\n",
    "    elbow_angle = calculate_angle(shoulder, elbow, wrist)\n",
    "    \n",
    "    # Hand Position (Wrist, Elbow, Shoulder)\n",
    "    hand_position_angle = calculate_angle(wrist, elbow, shoulder)\n",
    "    \n",
    "    # Shaft Angle (Wrist, Elbow, Ground level: approximated by the horizontal axis)\n",
    "    shaft_angle = calculate_angle([wrist[0], 1], wrist, elbow)\n",
    "    \n",
    "    # Knee Angle (Hip, Knee, Ankle)\n",
    "    hip = [landmarks[mp_pose.PoseLandmark.RIGHT_HIP.value].x,\n",
    "           landmarks[mp_pose.PoseLandmark.RIGHT_HIP.value].y]\n",
    "    knee = [landmarks[mp_pose.PoseLandmark.RIGHT_KNEE.value].x,\n",
    "            landmarks[mp_pose.PoseLandmark.RIGHT_KNEE.value].y]\n",
    "    ankle = [landmarks[mp_pose.PoseLandmark.RIGHT_ANKLE.value].x,\n",
    "             landmarks[mp_pose.PoseLandmark.RIGHT_ANKLE.value].y]\n",
    "    knee_angle = calculate_angle(hip, knee, ankle)\n",
    "    \n",
    "    print(f\"Elbow Angle: {elbow_angle} degrees\")\n",
    "    print(f\"Hand Position Angle: {hand_position_angle} degrees\")\n",
    "    print(f\"Shaft Angle: {shaft_angle} degrees\")\n",
    "    print(f\"Knee Angle: {knee_angle} degrees\")\n",
    "\n",
    "# Estimate accuracy based on the angles\n",
    "def estimate_overall_accuracy(elbow_angle, hand_position_angle, shaft_angle, knee_angle):\n",
    "    # Define ideal ranges (example values)\n",
    "    ideal_elbow_angle = 90\n",
    "    ideal_hand_position_angle = 180  # fully extended arms\n",
    "    ideal_shaft_angle = 45\n",
    "    ideal_knee_angle = 150\n",
    "    \n",
    "    # Calculate accuracy scores for each\n",
    "    elbow_accuracy = 100 - abs(ideal_elbow_angle - elbow_angle) / ideal_elbow_angle * 100\n",
    "    hand_position_accuracy = 100 - abs(ideal_hand_position_angle - hand_position_angle) / ideal_hand_position_angle * 100\n",
    "    shaft_accuracy = 100 - abs(ideal_shaft_angle - shaft_angle) / ideal_shaft_angle * 100\n",
    "    knee_accuracy = 100 - abs(ideal_knee_angle - knee_angle) / ideal_knee_angle * 100\n",
    "    \n",
    "    # Calculate overall accuracy as an average of individual accuracies\n",
    "    overall_accuracy = (elbow_accuracy + hand_position_accuracy + shaft_accuracy + knee_accuracy) / 4\n",
    "    return overall_accuracy\n",
    "\n",
    "overall_accuracy = estimate_overall_accuracy(elbow_angle, hand_position_angle, shaft_angle, knee_angle)\n",
    "print(f\"Estimated Overall Swing Accuracy: {overall_accuracy:.2f}%\")\n",
    "\n",
    "# Create a blank image for text\n",
    "height, width, _ = image.shape\n",
    "text_height = 200  # Height of the text section\n",
    "text_image = np.zeros((text_height, width, 3), dtype=np.uint8)\n",
    "text_image.fill(255)  # White background\n",
    "\n",
    "# Add text to the text image\n",
    "font = cv2.FONT_HERSHEY_SIMPLEX\n",
    "cv2.putText(text_image, f'Elbow Angle: {int(elbow_angle)} deg', (20, 40), \n",
    "            font, 1, (0, 0, 0), 2, cv2.LINE_AA)\n",
    "cv2.putText(text_image, f'Hand Position Angle: {int(hand_position_angle)} deg', (20, 80), \n",
    "            font, 1, (0, 0, 0), 2, cv2.LINE_AA)\n",
    "cv2.putText(text_image, f'Shaft Angle: {int(shaft_angle)} deg', (20, 120), \n",
    "            font, 1, (0, 0, 0), 2, cv2.LINE_AA)\n",
    "cv2.putText(text_image, f'Knee Angle: {int(knee_angle)} deg', (20, 160), \n",
    "            font, 1, (0, 0, 0), 2, cv2.LINE_AA)\n",
    "cv2.putText(text_image, f'Accuracy: {overall_accuracy:.2f}%', (20, 200), \n",
    "            font, 1, (0, 0, 0), 2, cv2.LINE_AA)\n",
    "\n",
    "# Concatenate the original image with the text image\n",
    "result_image = np.vstack((image, text_image))\n",
    "\n",
    "# Save the concatenated image\n",
    "output_path = \"golf_swing_analysis_extended.jpg\"  # Specify the output file path\n",
    "cv2.imwrite(output_path, result_image)\n",
    "\n",
    "print(f\"Image saved as {output_path}\")\n"
   ]
  }
 ],
 "metadata": {
  "kernelspec": {
   "display_name": "Python 3",
   "language": "python",
   "name": "python3"
  },
  "language_info": {
   "codemirror_mode": {
    "name": "ipython",
    "version": 3
   },
   "file_extension": ".py",
   "mimetype": "text/x-python",
   "name": "python",
   "nbconvert_exporter": "python",
   "pygments_lexer": "ipython3",
   "version": "3.10.9"
  }
 },
 "nbformat": 4,
 "nbformat_minor": 2
}
